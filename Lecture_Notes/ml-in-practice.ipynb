{
    "metadata": {
        "kernelspec": {
            "name": "ir",
            "display_name": "R",
            "language": "R"
        }
    },
    "nbformat": 4,
    "nbformat_minor": 4,
    "cells": [
        {
            "attachments": {},
            "cell_type": "raw",
            "metadata": {},
            "source": [
                "---\n",
                "title: Machine learning in practice\n",
                "execute:\n",
                "  eval: false\n",
                "---"
            ]
        },
        {
            "attachments": {},
            "cell_type": "markdown",
            "metadata": {},
            "source": [
                "Now that we have learned several methods and explored them with simple examples, we will try them out on a real example: the MNIST digits.\n",
                "\n",
                "We can load this data using the following **dslabs** package:\n",
                ""
            ]
        },
        {
            "cell_type": "code",
            "execution_count": 1,
            "metadata": {},
            "outputs": [],
            "source": [
                "library(dslabs)\n",
                "if (!exists(\"mnist\")) mnist \u003c- read_mnist()"
            ]
        },
        {
            "attachments": {},
            "cell_type": "markdown",
            "metadata": {},
            "source": [
                "The dataset includes two components, a training set and a test set:"
            ]
        },
        {
            "cell_type": "code",
            "execution_count": 2,
            "metadata": {},
            "outputs": [],
            "source": [
                "names(mnist)"
            ]
        },
        {
            "attachments": {},
            "cell_type": "markdown",
            "metadata": {},
            "source": [
                "Each of these components includes a matrix with features in the columns:"
            ]
        },
        {
            "cell_type": "code",
            "execution_count": 3,
            "metadata": {},
            "outputs": [],
            "source": [
                "dim(mnist$train$images)"
            ]
        },
        {
            "attachments": {},
            "cell_type": "markdown",
            "metadata": {},
            "source": [
                "and vector with the classes as integers:"
            ]
        },
        {
            "cell_type": "code",
            "execution_count": 4,
            "metadata": {},
            "outputs": [],
            "source": [
                "class(mnist$train$labels)\n",
                "table(mnist$train$labels)"
            ]
        },
        {
            "attachments": {},
            "cell_type": "markdown",
            "metadata": {},
            "source": [
                "Because we want this example to run on a small laptop and in less than one hour, we will consider a subset of the dataset. We will sample 1,000 random rows from the training set and 500 random rows from the test set:"
            ]
        },
        {
            "cell_type": "code",
            "execution_count": 6,
            "metadata": {},
            "outputs": [],
            "source": [
                "set.seed(1990)\n",
                "index \u003c- sample(nrow(mnist$train$images), 1000)\n",
                "x \u003c- mnist$train$images[index,]\n",
                "y \u003c- factor(mnist$train$labels[index])\n",
                "index \u003c- sample(nrow(mnist$test$images), 500)\n",
                "x_test \u003c- mnist$test$images[index,]\n",
                "y_test \u003c- factor(mnist$test$labels[index])"
            ]
        },
        {
            "attachments": {},
            "cell_type": "markdown",
            "metadata": {},
            "source": [
                "## The caret package\n",
                "\n",
                "We have already learned about several machine learning algorithms. Many of these algorithms are implemented in R. However, they are distributed via different packages, developed by different authors, and often use different syntax. The __caret__ package tries to consolidate these differences and provide consistency. It currently includes over 200 different methods which are summarized in the __caret__ package manual^[https://topepo.github.io/caret/available-models.html]. Keep in mind that __caret__ does not include the packages needed to run each possible algorithm. To apply a machine learning method through __caret__ you still need to install the library that implement the method. The required packages for each method are described in the package manual. \n",
                "\n",
                "The __caret__ package also provides a function that performs cross validation for us. Here we provide some examples showing how we use this helpful package. We will first use the 2 or 7 example to illustrate and, in later sections, we use the package to run algorithms on the larger MNIST dataset.\n",
                "\n",
                "### The `train` function \n",
                "\n",
                "The R functions that fit machine algorithms are all slightly different. Functions such as `lm`, `glm`, `qda`, `lda`, `knn3`, `rpart` and `randomForrest` use different syntax, have different argument names and produce objects of different types.\n",
                "\n",
                "The __caret__ `train` function lets us train different algorithms using similar syntax. So, for example, we can type:"
            ]
        },
        {
            "cell_type": "code",
            "execution_count": 7,
            "metadata": {},
            "outputs": [],
            "source": [
                "library(caret)\n",
                "train_glm \u003c- train(y ~ ., method = \"glm\", data = mnist_27$train)\n",
                "train_qda \u003c- train(y ~ ., method = \"qda\", data = mnist_27$train)\n",
                "train_knn \u003c- train(y ~ ., method = \"knn\", data = mnist_27$train)"
            ]
        },
        {
            "attachments": {},
            "cell_type": "markdown",
            "metadata": {},
            "source": [
                "As we explain in more detail in @sec-caret-cv, the `train` function selects parameters for you using a resampling method, with boostrap as the default.\n",
                "\n",
                "### The `predict` function\n",
                "\n",
                "The `predict` function is very useful for machine learning applications. This function takes an object from a fitting function and a data frame with features $\\mathbf{x}$ for which to predict, and returns predictions for these features. \n",
                "\n",
                "Here is an example with logistic regression:"
            ]
        },
        {
            "cell_type": "code",
            "execution_count": 8,
            "metadata": {},
            "outputs": [],
            "source": [
                "fit \u003c- glm(y ~ ., data = mnist_27$train, family = \"binomial\")\n",
                "p_hat \u003c- predict(fit, mnist_27$test)"
            ]
        },
        {
            "attachments": {},
            "cell_type": "markdown",
            "metadata": {},
            "source": [
                "In this case, the function is simply computing: \n",
                "\n",
                "$$\n",
                "\\hat{p}(\\mathbf{x}) = g^{-1}\\left(\\hat{\\beta}_0 + \\hat{\\beta}_1 x_1 + \\hat{\\beta}_2 x_2 \\right) \\text{ with } g(p) = \\log\\frac{p}{1-p} \\implies g^{-1}(\\mu) = \\frac{1}{1-e^{-\\mu}}\n",
                "$$\n",
                "\n",
                "for the `x_1` and `x_2` in the test set `mnist_27$test`. With these estimates in place, we can make our predictions and compute our accuracy:"
            ]
        },
        {
            "cell_type": "code",
            "execution_count": 9,
            "metadata": {},
            "outputs": [],
            "source": [
                "y_hat \u003c- factor(ifelse(p_hat \u003e 0.5, 7, 2))"
            ]
        },
        {
            "attachments": {},
            "cell_type": "markdown",
            "metadata": {},
            "source": [
                "However, note that `predict` does not always return objects of the same types; it depends on what type of object it is applied to. To learn about the specifics, you need to look at the help file specific for the type of fit object that is being used. The `predict` is actually a special type of function in R (called a _generic function_) that calls other functions depending on what kind of object it receives. So if `predict` receives an object coming out of the `lm` function, it will call `predict.glm`. If it receives an object coming out of `glm`, it calls `predict.qda`. If the fit is from `knn3`, it calls `predict.knn3`, and so on. These functions are similar but not exactly. You can learn more about the differences by reading the help files:"
            ]
        },
        {
            "cell_type": "code",
            "execution_count": 10,
            "metadata": {},
            "outputs": [],
            "source": [
                "?predict.glm\n",
                "?predict.qda\n",
                "?predict.knn3"
            ]
        },
        {
            "attachments": {},
            "cell_type": "markdown",
            "metadata": {},
            "source": [
                "There are many other versions of `predict` and many machine learning algorithms have a `predict` function.\n",
                "\n",
                "As with `train`, the **caret** packages unifies the use of `predict` with the function `predict.train`. This function takes the output of `train` and produces prediction of categories or estimates of $p(\\mathbf{x})$.\n",
                "\n",
                "The code looks the same for all methods:"
            ]
        },
        {
            "cell_type": "code",
            "execution_count": 11,
            "metadata": {},
            "outputs": [],
            "source": [
                "y_hat_glm \u003c- predict(train_glm, mnist_27$test, type = \"raw\")\n",
                "y_hat_qda \u003c- predict(train_qda, mnist_27$test, type = \"raw\")\n",
                "y_hat_knn \u003c- predict(train_knn, mnist_27$test, type = \"raw\")"
            ]
        },
        {
            "attachments": {},
            "cell_type": "markdown",
            "metadata": {},
            "source": [
                "This permits us to quickly compare the algorithms. For example, we can compare the accuracy like this:"
            ]
        },
        {
            "cell_type": "code",
            "execution_count": 12,
            "metadata": {},
            "outputs": [],
            "source": [
                "fits \u003c- list(glm = y_hat_glm, qda = y_hat_qda, knn = y_hat_knn)\n",
                "sapply(fits, function(fit) confusionMatrix(fit, mnist_27$test$y)$overall[[\"Accuracy\"]])"
            ]
        },
        {
            "attachments": {},
            "cell_type": "markdown",
            "metadata": {},
            "source": [
                "### Cross validation\n",
                "\n",
                "When an algorithm includes a tuning parameter, `train` automatically uses cross validation to decide among a few default values. To find out what parameter or parameters are optimized, you can read the manual ^[http://topepo.github.io/caret/available-models.html] or study the output of: "
            ]
        },
        {
            "cell_type": "code",
            "execution_count": 13,
            "metadata": {},
            "outputs": [],
            "source": [
                "getModelInfo(\"knn\")"
            ]
        },
        {
            "attachments": {},
            "cell_type": "markdown",
            "metadata": {},
            "source": [
                "We can also use a quick lookup like this:"
            ]
        },
        {
            "cell_type": "code",
            "execution_count": 0,
            "metadata": {},
            "outputs": [],
            "source": [
                "modelLookup(\"knn\")"
            ]
        },
        {
            "attachments": {},
            "cell_type": "markdown",
            "metadata": {},
            "source": [
                "If we run it with default values: "
            ]
        },
        {
            "cell_type": "code",
            "execution_count": 14,
            "metadata": {},
            "outputs": [],
            "source": [
                "train_knn \u003c- train(y ~ ., method = \"knn\", data = mnist_27$train)"
            ]
        },
        {
            "attachments": {},
            "cell_type": "markdown",
            "metadata": {},
            "source": [
                "you can quickly see the results of the cross validation using the `ggplot` function. The argument `highlight` highlights the max:"
            ]
        },
        {
            "cell_type": "code",
            "execution_count": 15,
            "metadata": {},
            "outputs": [],
            "source": [
                "ggplot(train_knn, highlight = TRUE)"
            ]
        },
        {
            "attachments": {},
            "cell_type": "markdown",
            "metadata": {},
            "source": [
                "By default, the cross validation is performed by taking 25 bootstrap samples comprised of 25% of the observations. For the `kNN` method, the default is to try $k=5,7,9$. We change this using the `tuneGrid` argument. The grid of values must be supplied by a data frame with the parameter names as specified in the `modelLookup` output. \n",
                "\n",
                "Here we present an example where we try out 30 values between 9 and 67. To do this with __caret__, we need to define a column named `k`, so we use this:  `data.frame(k = seq(9, 67, 2))`. Note that when running this code, we are fitting 30 versions of kNN to 25 bootstrapped samples. Since we are fitting $30 \\times 25 = 750$ kNN models, running this code will take several seconds. We set the seed because cross validation is a random procedure and we want to make sure the result here is reproducible."
            ]
        },
        {
            "cell_type": "code",
            "execution_count": 16,
            "metadata": {},
            "outputs": [],
            "source": [
                "set.seed(2008)\n",
                "train_knn \u003c- train(y ~ ., method = \"knn\", \n",
                "                   data = mnist_27$train,\n",
                "                   tuneGrid = data.frame(k = seq(9, 71, 2)))\n",
                "ggplot(train_knn, highlight = TRUE)"
            ]
        },
        {
            "attachments": {},
            "cell_type": "markdown",
            "metadata": {},
            "source": [
                "To access the parameter that maximized the accuracy, you can use this:"
            ]
        },
        {
            "cell_type": "code",
            "execution_count": 17,
            "metadata": {},
            "outputs": [],
            "source": [
                "train_knn$bestTune"
            ]
        },
        {
            "attachments": {},
            "cell_type": "markdown",
            "metadata": {},
            "source": [
                "and the best performing model like this:"
            ]
        },
        {
            "cell_type": "code",
            "execution_count": 18,
            "metadata": {},
            "outputs": [],
            "source": [
                "train_knn$finalModel"
            ]
        },
        {
            "attachments": {},
            "cell_type": "markdown",
            "metadata": {},
            "source": [
                "The function `predict` will use this best performing model. Here is the accuracy of the best model when applied to the test set, which we have not yet used because the cross validation was done on the training set:"
            ]
        },
        {
            "cell_type": "code",
            "execution_count": 19,
            "metadata": {},
            "outputs": [],
            "source": [
                "confusionMatrix(predict(train_knn, mnist_27$test, type = \"raw\"),\n",
                "                mnist_27$test$y)$overall[\"Accuracy\"]"
            ]
        },
        {
            "attachments": {},
            "cell_type": "markdown",
            "metadata": {},
            "source": [
                "If we want to change how we perform cross validation, we can use the `trainControl` function. We can make the code above go a bit faster by using, for example, 10-fold cross validation. This means we have 10 samples using 10% of the observations each. We accomplish this using the following code:"
            ]
        },
        {
            "cell_type": "code",
            "execution_count": 20,
            "metadata": {},
            "outputs": [],
            "source": [
                "control \u003c- trainControl(method = \"cv\", number = 10, p = .9)\n",
                "train_knn_cv \u003c- train(y ~ ., method = \"knn\", \n",
                "                   data = mnist_27$train,\n",
                "                   tuneGrid = data.frame(k = seq(9, 71, 2)),\n",
                "                   trControl = control)\n",
                "ggplot(train_knn_cv, highlight = TRUE)"
            ]
        },
        {
            "attachments": {},
            "cell_type": "markdown",
            "metadata": {},
            "source": [
                "We observe that the accuracy estimates are more variable, which is expected since we changed the number of samples used to estimate accuracy.\n",
                "\n",
                "Note that `results` component of the `train` output includes several summary statistics related to the variability of the cross validation estimates:"
            ]
        },
        {
            "cell_type": "code",
            "execution_count": 21,
            "metadata": {},
            "outputs": [],
            "source": [
                "names(train_knn$results)"
            ]
        },
        {
            "attachments": {},
            "cell_type": "markdown",
            "metadata": {},
            "source": [
                "You can learn many more details about the **caret** package, from the manual ^[https://topepo.github.io/caret/available-models.html].\n",
                "\n",
                "## Preprocessing\n",
                "\n",
                "We often transform predictors before running the machine algorithm. We also remove predictors that are clearly not useful. We call these steps *preprocessing*.\n",
                "\n",
                "Examples of preprocessing include standardizing the predictors, taking the log transform of some predictors, removing predictors that are highly correlated with others, and removing predictors with very few non-unique values or close to zero variation. \n",
                "\n",
                "For example, we can run the `nearZero` function from the **caret** package to see that several features do not vary much from observation to observation. We can see that there is a large number of features with close to 0 variability:"
            ]
        },
        {
            "cell_type": "code",
            "execution_count": 22,
            "metadata": {},
            "outputs": [],
            "source": [
                "library(matrixStats)\n",
                "sds \u003c- colSds(x)\n",
                "hist(sds, breaks = 256)"
            ]
        },
        {
            "attachments": {},
            "cell_type": "markdown",
            "metadata": {},
            "source": [
                "This is expected because there are parts of the image that rarely contain writing (dark pixels).\n",
                "\n",
                "The **caret** packages includes a function that recommends features to be removed due to *near zero variance*:"
            ]
        },
        {
            "cell_type": "code",
            "execution_count": 23,
            "metadata": {},
            "outputs": [],
            "source": [
                "nzv \u003c- nearZeroVar(x)"
            ]
        },
        {
            "attachments": {},
            "cell_type": "markdown",
            "metadata": {},
            "source": [
                "We can see the columns recommended for removal are the near the edges:"
            ]
        },
        {
            "cell_type": "code",
            "execution_count": 24,
            "metadata": {},
            "outputs": [],
            "source": [
                "image(matrix(1:784 %in% nzv, 28, 28))"
            ]
        },
        {
            "attachments": {},
            "cell_type": "markdown",
            "metadata": {},
            "source": [
                "So we end up keeping this number of columns:"
            ]
        },
        {
            "cell_type": "code",
            "execution_count": 25,
            "metadata": {},
            "outputs": [],
            "source": [
                "col_index \u003c- setdiff(1:ncol(x), nzv)\n",
                "length(col_index)"
            ]
        },
        {
            "attachments": {},
            "cell_type": "markdown",
            "metadata": {},
            "source": [
                "Now we are ready to fit some models. Before we start, we need to add column names to the feature matrices as these are required by **caret**:"
            ]
        },
        {
            "cell_type": "code",
            "execution_count": 26,
            "metadata": {},
            "outputs": [],
            "source": [
                "colnames(x) \u003c- 1:ncol(mnist$train$images)\n",
                "colnames(x_test) \u003c- colnames(x)"
            ]
        },
        {
            "attachments": {},
            "cell_type": "markdown",
            "metadata": {},
            "source": [
                "## k-nearest neighbors\n",
                "\n",
                "\\Before starting this section, note that the first two calls to the `train` function in the code below can take several hours to run. This is a common challenge when training machine learning algorithms since we have to run the algorithm for each cross validation split and each set of tuning parameters being considered. In the next section, we will provide some suggestions on how to predict the duration of the process and ways to reduce. \n",
                "\n",
                "The first step is to optimize for $k$."
            ]
        },
        {
            "cell_type": "code",
            "execution_count": 27,
            "metadata": {},
            "outputs": [],
            "source": [
                "train_knn \u003c- train(x[ ,col_index], y, \n",
                "                   method = \"knn\", \n",
                "                   tuneGrid = data.frame(k = seq(3, 13, 2)))"
            ]
        },
        {
            "attachments": {},
            "cell_type": "markdown",
            "metadata": {},
            "source": [
                "Once we optimize our algorithm, we can fit it to the entire dataset:"
            ]
        },
        {
            "cell_type": "code",
            "execution_count": 29,
            "metadata": {},
            "outputs": [],
            "source": [
                "fit_knn \u003c- knn3(x[, col_index], y,  k = train_knn$bestTune)"
            ]
        },
        {
            "attachments": {},
            "cell_type": "markdown",
            "metadata": {},
            "source": [
                "We achieve a high accuracy:"
            ]
        },
        {
            "cell_type": "code",
            "execution_count": 30,
            "metadata": {},
            "outputs": [],
            "source": [
                "y_hat_knn \u003c- predict(fit_knn, x_test[, col_index], type = \"class\")\n",
                "confusionMatrix(y_hat_knn, factor(y_test))$overall[\"Accuracy\"]"
            ]
        },
        {
            "attachments": {},
            "cell_type": "markdown",
            "metadata": {},
            "source": [
                "## Testing and improving computation time\n",
                "\n",
                "The default method for estimating accuracy used by the `train` function is to test prediction on 25 bootstrap samples. In some cases, 25 bootraps samples might not be enough to obtain a precise estimate of MSE. We can improve precision by increasing the number of bootstrap samples. However, this will increase computation time. For example, if we are considering several values, say 10, of the tuning parameters, we will fit the algorithm 250 times. \n",
                "\n",
                "This can be a challenge for machine learning algorithms such as Random Forests, which are particular computationally intensive.\n",
                "We can use the `system.time` function to estimate how long it takes to run the algorithm once. "
            ]
        },
        {
            "cell_type": "code",
            "execution_count": 31,
            "metadata": {},
            "outputs": [],
            "source": [
                "library(randomForest)\n",
                "system.time({fit_rf \u003c- randomForest(x[, col_index], y,  mtry = 9)})"
            ]
        },
        {
            "attachments": {},
            "cell_type": "markdown",
            "metadata": {},
            "source": [
                "and use this to estimate the total time for the 250 iterations. In this case, a call like the following would take 250 times longer. \n",
                "\n",
                "**Do not run the following command unless you are ready to wait several minutes.**"
            ]
        },
        {
            "cell_type": "code",
            "execution_count": 0,
            "metadata": {},
            "outputs": [],
            "source": [
                "system.time({\n",
                "  train_rf \u003c- train(x[, col_index], y, \n",
                "    method = \"rf\", \n",
                "    tuneGrid = data.frame(mtry = seq(4, 24, 5)))\n",
                "})"
            ]
        },
        {
            "attachments": {},
            "cell_type": "markdown",
            "metadata": {},
            "source": [
                "One way to reduce run time is to use k-fold cross validation with a smaller number of test sets. A popular choice is leaving out 10 test sets with 10% of the data:"
            ]
        },
        {
            "cell_type": "code",
            "execution_count": 32,
            "metadata": {},
            "outputs": [],
            "source": [
                "control \u003c- trainControl(method = \"cv\", number = 10, p = .9)"
            ]
        },
        {
            "attachments": {},
            "cell_type": "markdown",
            "metadata": {},
            "source": [
                "and re-running the `train` function with this choice specified via the `trControl` argument. For example, "
            ]
        },
        {
            "cell_type": "code",
            "execution_count": 0,
            "metadata": {},
            "outputs": [],
            "source": [
                "system.time({\n",
                "  train_rf_cv \u003c- train(x[, col_index], y, \n",
                "                       method = \"rf\", \n",
                "                       tuneGrid = data.frame(mtry = seq(4, 24, 5)),\n",
                "                       trControl = control)\n",
                "})\n",
                "print(train_rf_cv$bestTune$mtry)"
            ]
        },
        {
            "attachments": {},
            "cell_type": "markdown",
            "metadata": {},
            "source": [
                "However, remember that this gives a different estimate of MSE and thus could result in a different choice of best model.\n",
                "\n",
                "For random forest, we can also speed up the training step by running less trees per fit. After running the algorithm once, we can use the plot function to see how the error rate changes as the number of trees grows. \n",
                "\n",
                "Here we can see that error rate stabilizes after about 200 trees:"
            ]
        },
        {
            "cell_type": "code",
            "execution_count": 33,
            "metadata": {},
            "outputs": [],
            "source": [
                "plot(fit_rf)"
            ]
        },
        {
            "attachments": {},
            "cell_type": "markdown",
            "metadata": {},
            "source": [
                "We can use this finding to speed up the cross validation procedure. Specifically, because the default is 500, by adding the argument `ntree = 150` to the call to `train` above, the procedure will finish 3.3 times faster."
            ]
        },
        {
            "cell_type": "code",
            "execution_count": 34,
            "metadata": {},
            "outputs": [],
            "source": [
                "system.time({\n",
                "  train_rf_cv_150 \u003c- train(x[, col_index], y, \n",
                "                       method = \"rf\", \n",
                "                       tuneGrid = data.frame(mtry = seq(4, 24, 5)),\n",
                "                       trControl = control,\n",
                "                       ntree = 150)\n",
                "})\n",
                "print(train_rf_cv_150$bestTune$mtry)"
            ]
        },
        {
            "attachments": {},
            "cell_type": "markdown",
            "metadata": {},
            "source": [
                "## Variable importance\n",
                "\n",
                "The following function computes the importance of each feature:"
            ]
        },
        {
            "cell_type": "code",
            "execution_count": 35,
            "metadata": {},
            "outputs": [],
            "source": [
                "imp \u003c- importance(fit_rf)"
            ]
        },
        {
            "attachments": {},
            "cell_type": "markdown",
            "metadata": {},
            "source": [
                "We can see which features are being used most by plotting an image:"
            ]
        },
        {
            "cell_type": "code",
            "execution_count": 36,
            "metadata": {},
            "outputs": [],
            "source": [
                "mat \u003c- rep(0, ncol(x))\n",
                "mat[col_index] \u003c- imp\n",
                "image(matrix(mat, 28, 28))"
            ]
        },
        {
            "attachments": {},
            "cell_type": "markdown",
            "metadata": {},
            "source": [
                "## Diagnostics\n",
                "\n",
                "An important part of data analysis is visualizing results to determine why we are failing. How we do this depends on the application. Below we show the images of digits for which we made an incorrect prediction. Here are some errors for the random forest:"
            ]
        },
        {
            "cell_type": "code",
            "execution_count": 37,
            "metadata": {},
            "outputs": [],
            "source": [
                "p_max \u003c- predict(fit_knn, x_test[,col_index], type = \"prob\") \n",
                "p_max \u003c- p_max / rowSums(p_max)\n",
                "p_max \u003c- apply(p_max, 1, max)\n",
                "\n",
                "ind  \u003c- which(y_hat_knn != y_test)\n",
                "ind \u003c- ind[order(p_max[ind], decreasing = TRUE)]\n",
                "\n",
                "par(mfrow=c(1,4))\n",
                "for (i in ind[1:4]) {\n",
                "  image(matrix(x_test[i,], 28, 28)[, 28:1], \n",
                "        main = paste0(\"Pr(\",y_hat_knn[i],\")=\",round(p_max[i], 2), \" but is a \",y_test[i]),\n",
                "        xaxt = \"n\", yaxt = \"n\")\n",
                "}"
            ]
        },
        {
            "attachments": {},
            "cell_type": "markdown",
            "metadata": {},
            "source": [
                "By examining errors like this, we often find specific weaknesses to algorithms or parameter choices and can try to correct them.\n",
                "\n",
                "## Ensembles\n",
                "\n",
                "The idea of an ensemble is similar to the idea of combining data from different pollsters to obtain a better estimate of the true support for each candidate.\n",
                "\n",
                "In machine learning, one can usually greatly improve the final results by combining the results of different algorithms.\n",
                "\n",
                "Here is a simple example where we compute new class probabilities by taking the average of random forest and kNN. We can see that the accuracy improves:"
            ]
        },
        {
            "cell_type": "code",
            "execution_count": 38,
            "metadata": {},
            "outputs": [],
            "source": [
                "p_rf \u003c- predict(fit_rf, x_test[,col_index], type = \"prob\")  \n",
                "p_rf \u003c- p_rf / rowSums(p_rf)\n",
                "p_knn  \u003c- predict(fit_knn,  x_test[,col_index],  type=\"prob\")\n",
                "p \u003c- (p_rf + p_knn)/2\n",
                "y_pred \u003c- factor(apply(p, 1, which.max) - 1)\n",
                "confusionMatrix(y_pred, y_test)$overall[\"Accuracy\"]"
            ]
        },
        {
            "attachments": {},
            "cell_type": "markdown",
            "metadata": {},
            "source": [
                "We have just built an ensemble with just two algorithms. By combing more similarly performing, but uncorrelated, algorithms we can improve accuracy further."
            ]
        }
    ]
}
